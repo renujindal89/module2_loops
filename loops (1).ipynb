{
 "cells": [
  {
   "cell_type": "markdown",
   "id": "7f5316e0-25e4-4a8f-a9af-7f9712736040",
   "metadata": {},
   "source": [
    "# Types of operators"
   ]
  },
  {
   "cell_type": "markdown",
   "id": "3fb2757e-47c4-48b1-ad90-9e8bf156bf10",
   "metadata": {},
   "source": [
    "Types of operators\n",
    "Arithmetic- +,-,*,/,%,**,//\n",
    "/ givea float no\n",
    "% gives reminder(modulo)\n",
    "// gives int \n",
    "** means power\"\"\""
   ]
  },
  {
   "cell_type": "markdown",
   "id": "39164026-eff9-44fd-98d9-c7ecd9b34d7b",
   "metadata": {},
   "source": [
    "\"\"\"precidence rule #ORDER: ()  →  **  →  * , / , //, %  →  + ,-  →  < ,<= ,>, >=, ==, !=  \n",
    "#→  not  →  and  →  or  →  = \"\"\""
   ]
  },
  {
   "cell_type": "markdown",
   "id": "5696133b-56d5-4bd9-9ed6-1ed51b981fc3",
   "metadata": {},
   "source": [
    "# Arithmetic operators"
   ]
  },
  {
   "cell_type": "markdown",
   "id": "13c317d4-970b-412b-9f43-c67b6b368a4d",
   "metadata": {},
   "source": [
    "Python follows the order of operations, also known as PEMDAS:\n",
    "P: Parentheses\n",
    "E: Exponents\n",
    "MD: Multiplication and Division (from left to right)\n",
    "AS: Addition and Subtraction (from left to right)"
   ]
  },
  {
   "cell_type": "code",
   "execution_count": 1,
   "id": "4bd44271-32a8-4af2-8c36-932951392a38",
   "metadata": {},
   "outputs": [
    {
     "name": "stdout",
     "output_type": "stream",
     "text": [
      "512\n"
     ]
    }
   ],
   "source": [
    "#only in case of exponentital operator\n",
    "result = 2 ** 3 ** 2  # right -to- left\n",
    "print(result)   # right associative 2**(3**2) =512"
   ]
  },
  {
   "cell_type": "markdown",
   "id": "ad8754c0-218d-40dd-abc9-335c55cab075",
   "metadata": {},
   "source": [
    "# RELATIONAL OPERATORS/COMPARISON OPERATOR "
   ]
  },
  {
   "cell_type": "markdown",
   "id": "95a6340b-454a-4c19-a1a7-9d3ebef32e88",
   "metadata": {},
   "source": [
    "RELATIONAL OPERATORS/COMPARISON OPERATOR \n",
    "==,!=,>,<,<=,>=\n",
    "always give boolean output(true,false)"
   ]
  },
  {
   "cell_type": "code",
   "execution_count": null,
   "id": "6ce9acc2-aade-44f1-8993-ad51935e643f",
   "metadata": {},
   "outputs": [],
   "source": [
    "seq-(=)(exact match)(<> for noy equal)\n",
    "python (==),(!=)\n",
    "ALERT \n",
    "=,== \n",
    "== means compare the value\n",
    "= means we assign some value or store some value in memory"
   ]
  },
  {
   "cell_type": "code",
   "execution_count": 2,
   "id": "fb489b03-45eb-431c-a985-ed3180019482",
   "metadata": {},
   "outputs": [
    {
     "name": "stdout",
     "output_type": "stream",
     "text": [
      "False\n",
      "True\n",
      "True\n",
      "False\n"
     ]
    }
   ],
   "source": [
    "a=50\n",
    "b=20\n",
    "print(a==b)\n",
    "print(a!=b)\n",
    "print(a>=b)\n",
    "print(a<=b)"
   ]
  },
  {
   "cell_type": "code",
   "execution_count": null,
   "id": "15f6e036-f8ae-409e-b324-f62b3b6b7ff1",
   "metadata": {},
   "outputs": [],
   "source": [
    "a = 5\n",
    "print(1 < a < 10) # Output: True\n",
    "print(10 > a <= 9) # Output: True\n",
    "print(5 != a > 4) # Output: False\n",
    "print(a < 10 < a*10 == 50) # Output: True"
   ]
  },
  {
   "cell_type": "markdown",
   "id": "08a7c446-64a5-40be-bfeb-927a56c8bcf3",
   "metadata": {},
   "source": [
    "# logical operator\n",
    "# not,and,or"
   ]
  },
  {
   "cell_type": "code",
   "execution_count": 2,
   "id": "8fac12ef-2415-456d-888f-f0beaccd332a",
   "metadata": {},
   "outputs": [
    {
     "name": "stdout",
     "output_type": "stream",
     "text": [
      "True\n",
      "True\n",
      "True\n"
     ]
    }
   ],
   "source": [
    "a = 15\n",
    "b = 25\n",
    "c = 20\n",
    "print(a < b) and (b > c)\n",
    "print(a < b) or (b < c)\n",
    "print(not a == c)"
   ]
  },
  {
   "cell_type": "markdown",
   "id": "5af7dd52-33db-4d6d-86e8-fdc481f9eb8c",
   "metadata": {},
   "source": [
    "# Assignment operator"
   ]
  },
  {
   "cell_type": "code",
   "execution_count": null,
   "id": "f4ce7075-0f1b-40eb-86b8-56b85af3213b",
   "metadata": {},
   "outputs": [],
   "source": [
    "# Assignment operator\n",
    "=,+=,-=,*=,/=,%=,**="
   ]
  },
  {
   "cell_type": "code",
   "execution_count": null,
   "id": "80692493-f7e8-41a9-8018-31cbc8639230",
   "metadata": {},
   "outputs": [],
   "source": [
    "b=a means both variable point to same memory location \n",
    "both variable have same element and same memory add\n"
   ]
  },
  {
   "cell_type": "code",
   "execution_count": 12,
   "id": "f47c6195-59d5-46e0-8b1d-e210825e066b",
   "metadata": {},
   "outputs": [
    {
     "name": "stdout",
     "output_type": "stream",
     "text": [
      "1362963377488\n",
      "1362963377264\n",
      "5000\n",
      "5000\n",
      "1362963377264\n",
      "1362963377264\n"
     ]
    }
   ],
   "source": [
    "#+=,-=,*=,/=,**/\n",
    "#immutable (int,str)\n",
    "x = 1000 # with diff large value \n",
    "y = 5000\n",
    "print(id(x))\n",
    "print(id(y))\n",
    "x=y          \n",
    "print(x)\n",
    "print(y)\n",
    "print(id(x))\n",
    "print(id(y))#Both x and y point to the same integer object 5000"
   ]
  },
  {
   "cell_type": "code",
   "execution_count": null,
   "id": "a8fe9ba0-d7e7-4016-ad6a-178e7a51ff25",
   "metadata": {},
   "outputs": [],
   "source": [
    "#string immutable\n",
    "a=\"renu\"   # with diff string\n",
    "b=\"ritu\"\n",
    "print(id(a))  # same add \n",
    "print(id(b))\n",
    "a=b     \n",
    "print(a)\n",
    "print(b)\n",
    "print(id(a))\n",
    "print(id(b))\n",
    "print(a is b)"
   ]
  },
  {
   "cell_type": "code",
   "execution_count": null,
   "id": "0ad7535e-5a5f-453c-ade4-731a44cb7266",
   "metadata": {},
   "outputs": [],
   "source": [
    "#mutable \n",
    "y = [1, 2]\n",
    "x=[5,6]\n",
    "print(x)\n",
    "print(y)\n",
    "print(id(x))\n",
    "print(id(y))# add diff\n",
    "y=x\n",
    "print(x)\n",
    "print(y)# x=x+3  modify in x itself\n",
    "print(id(x))\n",
    "print(id(y))\n",
    "print(x is y) "
   ]
  },
  {
   "cell_type": "code",
   "execution_count": null,
   "id": "e36c997f-95bc-4cae-8349-f636d8a96d95",
   "metadata": {},
   "outputs": [],
   "source": [
    " in case of int,str,float if you modify one variable\n",
    "it will not impact the other variable"
   ]
  },
  {
   "cell_type": "code",
   "execution_count": null,
   "id": "a62bf38e-934c-4436-b941-95fdc22adbf0",
   "metadata": {},
   "outputs": [],
   "source": [
    "but in case of list,set,dict  if you modify one variable\n",
    "it will also change  the other variable"
   ]
  },
  {
   "cell_type": "code",
   "execution_count": 9,
   "id": "e35e9a56-6854-4413-ba81-9c181f89ecb5",
   "metadata": {},
   "outputs": [
    {
     "name": "stdout",
     "output_type": "stream",
     "text": [
      "10\n",
      "15\n"
     ]
    }
   ],
   "source": [
    "#having no impact on both variable\n",
    "a = 10\n",
    "b = a      # assignment\n",
    "b += 5     # b = b + 5 creates a new integer object\n",
    "print(a)  # 10\n",
    "print(b)  "
   ]
  },
  {
   "cell_type": "code",
   "execution_count": null,
   "id": "0ec8d514-8f32-45c6-8d5a-d5f5ea6e0a2f",
   "metadata": {},
   "outputs": [],
   "source": [
    "a = \"hello\"\n",
    "b = a      # assignment\n",
    "b += \" world\"   # creates a new string object\n",
    "print(a)  # \"hello\"\n",
    "print(b)  # \"hello world\""
   ]
  },
  {
   "cell_type": "code",
   "execution_count": null,
   "id": "82b1e3eb-3b0c-49d5-a928-b4a0f50602f3",
   "metadata": {},
   "outputs": [],
   "source": [
    "ints,float,tuple and strings are immutable, a shallow copy doesn’t make any practical difference."
   ]
  },
  {
   "cell_type": "code",
   "execution_count": null,
   "id": "d6e8d577-1de2-4ac4-896d-a4f44dd2e620",
   "metadata": {},
   "outputs": [],
   "source": [
    "list ,set,dict are mutable\n",
    "A shallow copy creates a new outer object but does not recursively copy the inner objects.\n",
    "The new object contains references to the same inner elements."
   ]
  },
  {
   "cell_type": "code",
   "execution_count": 7,
   "id": "bf7439a0-e58f-4719-84dd-c237c602e077",
   "metadata": {},
   "outputs": [
    {
     "name": "stdout",
     "output_type": "stream",
     "text": [
      "1362907016768 1362907016768\n",
      "[99, 2, 3]\n",
      "[99, 2, 3]\n"
     ]
    }
   ],
   "source": [
    "a = [1, 2, 3]\n",
    "b = a     # no copy, same list\n",
    "print(id(a), id(b))   # same IDs\n",
    "b[0] = 99\n",
    "print(a)  # [99, 2, 3]  ← a changed too!\n",
    "print(b)"
   ]
  },
  {
   "cell_type": "code",
   "execution_count": 8,
   "id": "4bef7b58-f03b-43d5-b4c2-1cfc4cf2ab40",
   "metadata": {},
   "outputs": [
    {
     "name": "stdout",
     "output_type": "stream",
     "text": [
      "1362928761984\n",
      "1362928755392\n",
      "[1, 2, 3]\n",
      "[99, 2, 3]\n"
     ]
    }
   ],
   "source": [
    "import copy\n",
    "\n",
    "a = [1, 2, 3]\n",
    "b = copy.copy(a)   # shallow copy\n",
    "print(id(a))\n",
    "print(id(b))\n",
    "b[0] = 99   # replace element in b\n",
    "print(a)  # [1, 2, 3]\n",
    "print(b)  # [99, 2, 3]"
   ]
  },
  {
   "cell_type": "code",
   "execution_count": 11,
   "id": "20debd5d-dd8c-4c8c-8dc4-4f2c7197933a",
   "metadata": {},
   "outputs": [
    {
     "name": "stdout",
     "output_type": "stream",
     "text": [
      "[1, 2, 3]\n",
      "[1, 2]\n",
      "1362963550720\n",
      "1362963548672\n",
      "[1, 2, 3]\n",
      "[99, 2]\n"
     ]
    }
   ],
   "source": [
    "import copy\n",
    "\n",
    "a = [1, 2, 3]\n",
    "b = copy.copy(a[:2])   # shallow copy\n",
    "print(a)\n",
    "print(b)\n",
    "print(id(a))\n",
    "print(id(b))\n",
    "b[0] = 99   # replace element in b\n",
    "print(a)  # [1, 2, 3]\n",
    "print(b)  # [99, 2, 3]"
   ]
  },
  {
   "cell_type": "code",
   "execution_count": null,
   "id": "172a4a58-38ca-489e-93d5-51a3439b0b0a",
   "metadata": {},
   "outputs": [],
   "source": [
    "#q1 wap to add two numbers  and store result in result variable \n",
    "#q2 wap to calculate the area of square\n",
    "#q3 wap to find the average of two number by taking the input from user\n",
    "#q4 Write a Python program to take two integer inputs from the user,\n",
    "change the data type to float and print the float type and integer type\n",
    "division of inputs.\n",
    "Sample input:\n",
    "4\n",
    "5"
   ]
  },
  {
   "cell_type": "markdown",
   "id": "171b1795-9d6c-4a14-bdef-ac94f972d3fe",
   "metadata": {},
   "source": [
    "# module 2"
   ]
  },
  {
   "cell_type": "markdown",
   "id": "a337c12a-ce9b-4b00-b823-a23586778900",
   "metadata": {},
   "source": [
    "if,elif,else "
   ]
  },
  {
   "cell_type": "code",
   "execution_count": null,
   "id": "c9fe1bab-8db9-46fa-a8f3-13f635852d77",
   "metadata": {},
   "outputs": [],
   "source": [
    "#syntax ( rule of programming) # print(\"\")\n",
    "# marks grade,driving licence age \n",
    "#return (true,false)\n",
    "if(cond):\n",
    "    statement\n",
    "elif(cond):\n",
    "     statement\n",
    "else:\n",
    "    statement"
   ]
  },
  {
   "cell_type": "code",
   "execution_count": 17,
   "id": "ff691eb3-6781-4b66-a935-b50a9b0c3072",
   "metadata": {},
   "outputs": [],
   "source": [
    "#driving licence \n",
    "age=21\n",
    "if(age>=18):\n",
    "    print(\"can vote\")\n",
    "    print(\"can drive\")\n",
    "    print(\"can apply for license\")\n",
    "    "
   ]
  },
  {
   "cell_type": "code",
   "execution_count": 18,
   "id": "1afac211-be95-4069-ae41-ec41dc671544",
   "metadata": {},
   "outputs": [
    {
     "name": "stdout",
     "output_type": "stream",
     "text": [
      "not eligible\n"
     ]
    }
   ],
   "source": [
    "#age=11 # if -false\n",
    "age=11\n",
    "if(age>=18):\n",
    "    print(\"can vote\")\n",
    "    print(\"can drive\")\n",
    "    print(\"can apply for license\")\n",
    "else:\n",
    "    print(\"not eligible\")"
   ]
  },
  {
   "cell_type": "code",
   "execution_count": 22,
   "id": "93fa1ea5-56d1-4184-bacd-984a63506232",
   "metadata": {},
   "outputs": [
    {
     "name": "stdout",
     "output_type": "stream",
     "text": [
      "go\n",
      "end of code\n"
     ]
    }
   ],
   "source": [
    "#  for checking multiple condition use elif\n",
    "#signal light \n",
    "light=\"green\"             #yellow  #pink\n",
    "if(light==\"red\"):\n",
    "    print(\"stop\")\n",
    "elif(light==\"green\"):\n",
    "    print(\"go\")\n",
    "elif(light==\"yellow\"):\n",
    "    print(\"look\")\n",
    "print(\"end of code\")   "
   ]
  },
  {
   "cell_type": "code",
   "execution_count": 21,
   "id": "305d754e-006b-4550-8eaa-75241bb39d9a",
   "metadata": {},
   "outputs": [
    {
     "name": "stdout",
     "output_type": "stream",
     "text": [
      "light is broken\n",
      "end of code\n"
     ]
    }
   ],
   "source": [
    "#else #pink\n",
    "light=\"pink\"             \n",
    "if(light==\"red\"):\n",
    "    print(\"stop\")\n",
    "elif(light==\"green\"):\n",
    "    print(\"go\")\n",
    "elif(light==\"yellow\"):\n",
    "    print(\"look\")\n",
    "else:\n",
    "    print(\"light is broken\")\n",
    "print(\"end of code\")    \n",
    "    "
   ]
  },
  {
   "cell_type": "code",
   "execution_count": 15,
   "id": "a6e82251-fb30-401c-8b08-81786e282c1f",
   "metadata": {},
   "outputs": [
    {
     "name": "stdout",
     "output_type": "stream",
     "text": [
      "greater than 3\n"
     ]
    }
   ],
   "source": [
    "#difference between multiple ifs and elifs (only if false)\n",
    "n=3       #1,3,4,0,-4\n",
    "if(n>2):\n",
    "    print(\"greater than 2\")\n",
    "if(n>3):\n",
    "    print(\"greater than 3\")\n",
    "elif(n==1):\n",
    "    print(\" equal to one\")\n",
    "elif(n==0):\n",
    "    print (\"equal to 0\")\n",
    "else:\n",
    "    print(\"negative num\")\n",
    "    \n"
   ]
  },
  {
   "cell_type": "code",
   "execution_count": null,
   "id": "75d65eec-100f-4de1-b652-a20660c61af4",
   "metadata": {},
   "outputs": [],
   "source": [
    "n=3       #1,3,4,0,-4\n",
    "if(n==2):\n",
    "    print(\"greater than 2\")\n",
    "if(n>=3):\n",
    "    print(\"greater than 3\")\n",
    "elif(n==1):\n",
    "    print(\" equal to one\")\n",
    "elif(n==0):\n",
    "    print (\"equal to 0\")\n",
    "else:\n",
    "    print(\"negative num\")"
   ]
  },
  {
   "cell_type": "code",
   "execution_count": null,
   "id": "2a97ffa4-9ea7-474a-9c34-42d8e7c569f8",
   "metadata": {},
   "outputs": [],
   "source": [
    "#q1 grade of students based on marks\n",
    "marks>=90, grade=\"a\"\n",
    "marks>=80 and marks <=90 ,grade=\"b\"\n",
    "marks>=70 and marks<=80,grade=\"c\"\n",
    "marks<=70,grade=\"d\""
   ]
  },
  {
   "cell_type": "code",
   "execution_count": null,
   "id": "800101ab-2f80-471a-a559-a240351dbc90",
   "metadata": {},
   "outputs": [],
   "source": [
    "marks=74        # using input\n",
    "if(marks>=90):\n",
    "    grade=\"a\"\n",
    "elif(marks>=80 and marks <=90):\n",
    "    grade=\"b\"\n",
    "elif(marks>=70 and marks<=80):\n",
    "    grade=\"c\"\n",
    "else:\n",
    "    grade=\"d\"\n",
    "print(\"grade of students:\",grade)    "
   ]
  },
  {
   "cell_type": "markdown",
   "id": "8020bb62-9257-432e-8c94-c263cfa74fbe",
   "metadata": {},
   "source": [
    "# nesting if "
   ]
  },
  {
   "cell_type": "code",
   "execution_count": null,
   "id": "759dafa1-228c-491e-bb55-460d8a5d8d0b",
   "metadata": {},
   "outputs": [],
   "source": [
    "#if inside if \n",
    "inner if execute onlyif  puter if is true\n",
    "if:  #true\n",
    "   if:  #true\n",
    "    statement\n",
    "    else\n",
    "else    "
   ]
  },
  {
   "cell_type": "code",
   "execution_count": 24,
   "id": "2ab2e96b-df8b-42c3-9747-298d7b3f9bd6",
   "metadata": {},
   "outputs": [
    {
     "name": "stdout",
     "output_type": "stream",
     "text": [
      "can drive\n"
     ]
    }
   ],
   "source": [
    "age=34\n",
    "if(age>=18):    #true\n",
    "    if(age>=80):  #false\n",
    "        print(\"can not drive\")\n",
    "    else:\n",
    "        print(\"can drive\")   #execute\n",
    "else:\n",
    "    print(\"can not drive\")"
   ]
  },
  {
   "cell_type": "code",
   "execution_count": 25,
   "id": "a02470d8-f974-4db0-a0cf-955373d905bb",
   "metadata": {},
   "outputs": [
    {
     "name": "stdout",
     "output_type": "stream",
     "text": [
      "can not drive\n"
     ]
    }
   ],
   "source": [
    "age=14\n",
    "if(age>=18):    #false\n",
    "    if(age>=80):  \n",
    "        print(\"can not drive\")\n",
    "    else:\n",
    "        print(\"can drive\")  \n",
    "else:   \n",
    "    print(\"can not drive\")   #execute"
   ]
  },
  {
   "cell_type": "markdown",
   "id": "deebf85d-4291-4862-9e3f-1f849c3d7d68",
   "metadata": {},
   "source": [
    "# practice question"
   ]
  },
  {
   "cell_type": "code",
   "execution_count": null,
   "id": "3fa7e4b3-9eb5-4dbd-a1b5-6a0998ef6c31",
   "metadata": {},
   "outputs": [],
   "source": [
    "q1=wap to check if number entered by user is odd or even?\n",
    "q2=wap to find the greatest number from the  three number entered by user?\n",
    "q3=wap to check if number is multiple of 7 or not "
   ]
  },
  {
   "cell_type": "code",
   "execution_count": null,
   "id": "5583adb3-eeac-41c8-9a0d-c2497b63b37c",
   "metadata": {},
   "outputs": [],
   "source": [
    "num=14\n",
    "rem=num%2\n",
    "if(rem==0):\n",
    "    print(\"even\")\n",
    "else:\n",
    "    print(\"odd\")"
   ]
  },
  {
   "cell_type": "code",
   "execution_count": null,
   "id": "53a16e7c-457d-4a4a-b7b8-8c2e44c6a4b6",
   "metadata": {},
   "outputs": [],
   "source": [
    "if(a>b  and a>c)  #print(\"first num is greater\",a)\n",
    "elif(b>c)  #print(\"\")\n",
    "else  #print (\"c\")"
   ]
  },
  {
   "cell_type": "code",
   "execution_count": null,
   "id": "50d80546-d0e1-43da-9d56-b914b20f3ae4",
   "metadata": {},
   "outputs": [],
   "source": [
    "#if x%7==0 print(\"yes multiple of 7\")"
   ]
  },
  {
   "cell_type": "markdown",
   "id": "23e9cc63-2d1f-46ae-9fbf-0c470625ecf4",
   "metadata": {},
   "source": [
    "# for,while,break,continue"
   ]
  },
  {
   "cell_type": "code",
   "execution_count": null,
   "id": "dca30718-143a-40a1-ad18-a6f6206bf796",
   "metadata": {},
   "outputs": [],
   "source": [
    "#\"hello\"  #print 5 time \n",
    "print(\"hello\")\n",
    "print(\"hello\")\n",
    "print(\"hello\")\n",
    "print(\"hello\")\n",
    "print(\"hello\")    #50 times print"
   ]
  },
  {
   "cell_type": "markdown",
   "id": "39d1d2af-75b4-4371-90a6-8e5c6dc9aa29",
   "metadata": {},
   "source": [
    "# while loop"
   ]
  },
  {
   "cell_type": "code",
   "execution_count": null,
   "id": "a343772a-3d43-48fb-b202-dac5c219bc30",
   "metadata": {},
   "outputs": [],
   "source": [
    "A while loop runs a block of code as long as a condition is True.\n",
    "Once the condition becomes False, the loop stops.\n",
    "#syntax\n",
    "initialize the variable  # iterator\n",
    "condition :true   \n",
    "    work         #iteration \n",
    "update"
   ]
  },
  {
   "cell_type": "code",
   "execution_count": null,
   "id": "20f4da8f-ea56-4270-937c-33c7909157a9",
   "metadata": {},
   "outputs": [],
   "source": [
    "#while True:\n",
    " #   print(\"hello\")"
   ]
  },
  {
   "cell_type": "code",
   "execution_count": null,
   "id": "b387e6ac-1b48-4826-b3ec-03cd26592cdf",
   "metadata": {},
   "outputs": [],
   "source": [
    "#  in while loop variable is important  to stop the loop "
   ]
  },
  {
   "cell_type": "code",
   "execution_count": 3,
   "id": "05703496-0694-44b0-b3dc-39b51175373c",
   "metadata": {},
   "outputs": [
    {
     "name": "stdout",
     "output_type": "stream",
     "text": [
      "hello\n",
      "hello\n",
      "hello\n",
      "hello\n",
      "hello\n"
     ]
    }
   ],
   "source": [
    "#print \"hello\" 5 time\n",
    "count=1\n",
    "while count<=5:\n",
    "    print(\"hello\")\n",
    "    count+=1"
   ]
  },
  {
   "cell_type": "code",
   "execution_count": 4,
   "id": "0b180f8f-91ac-4882-a8e3-f47532de6718",
   "metadata": {},
   "outputs": [
    {
     "name": "stdout",
     "output_type": "stream",
     "text": [
      "hello 1\n",
      "hello 2\n",
      "hello 3\n",
      "hello 4\n",
      "hello 5\n",
      "6\n"
     ]
    }
   ],
   "source": [
    "count=1\n",
    "while count<=5:         #100\n",
    "    print(\"hello\",count)\n",
    "    count+=1\n",
    "print(count)    "
   ]
  },
  {
   "cell_type": "markdown",
   "id": "79dba540-496c-4679-92a2-00b0d0428c96",
   "metadata": {},
   "source": [
    "# practice question "
   ]
  },
  {
   "cell_type": "code",
   "execution_count": null,
   "id": "8d48ca15-899a-46cc-ac0c-2d61a17f1cb8",
   "metadata": {},
   "outputs": [],
   "source": [
    "q1=wap to print number 1 to 5,100\n",
    "q2=wap to print number 100,5 to 1\n",
    "q3=wap to print multiplication table of number provided by use\n",
    "q4=wap to print the element of the following list using loop\n",
    "[1,4,5,7,9,23,45,65,73,2,4]\n",
    "q5=wap to search a number x in the list using loop"
   ]
  },
  {
   "cell_type": "code",
   "execution_count": 5,
   "id": "3dfa428b-dd09-48f6-83ae-9c14ac143589",
   "metadata": {},
   "outputs": [
    {
     "name": "stdout",
     "output_type": "stream",
     "text": [
      "1\n",
      "2\n",
      "3\n",
      "4\n",
      "5\n",
      "6\n",
      "7\n",
      "8\n",
      "9\n",
      "10\n"
     ]
    }
   ],
   "source": [
    "i=1\n",
    "while i<=10:   #to stop the loop\n",
    "    print(i)\n",
    "    i+=1"
   ]
  },
  {
   "cell_type": "code",
   "execution_count": 6,
   "id": "4671957f-c99f-4a5a-b363-a736d51d6ebb",
   "metadata": {},
   "outputs": [
    {
     "name": "stdout",
     "output_type": "stream",
     "text": [
      "10\n",
      "9\n",
      "8\n",
      "7\n",
      "6\n",
      "5\n",
      "4\n",
      "3\n",
      "2\n",
      "1\n"
     ]
    }
   ],
   "source": [
    "i=10\n",
    "while i >=1:   # to stop the loop\n",
    "    print(i)\n",
    "    i-=1"
   ]
  },
  {
   "cell_type": "code",
   "execution_count": null,
   "id": "8cbafccf-fd25-4abf-acd3-273dd5964dea",
   "metadata": {},
   "outputs": [],
   "source": [
    "n=3\n",
    "i=1\n",
    "while i<=10:\n",
    "    print(n*i)\n",
    "    i+=1"
   ]
  },
  {
   "cell_type": "code",
   "execution_count": null,
   "id": "3782df00-14c9-4cd7-9fc2-f2ad4393e8a4",
   "metadata": {},
   "outputs": [],
   "source": [
    "n=3\n",
    "i=1\n",
    "while i<=10:\n",
    "    print(n, \"*\", i, \"=\", n * i)\n",
    "    i+=1"
   ]
  },
  {
   "cell_type": "code",
   "execution_count": null,
   "id": "fbdf75d1-5e82-45af-8e28-e75c7f376d2a",
   "metadata": {},
   "outputs": [],
   "source": [
    "l=[1,4,5,7,9,23,45,65,73,2,4]\n",
    "#print(l[0])\n",
    "#start=0,end=len(l-1)\n",
    "ind=0\n",
    "while ind<len(l):\n",
    "    print(l[ind])\n",
    "    ind+=1"
   ]
  },
  {
   "cell_type": "code",
   "execution_count": 9,
   "id": "d1e05fbc-4d2b-4bba-af8e-2913f6c513bc",
   "metadata": {},
   "outputs": [
    {
     "name": "stdout",
     "output_type": "stream",
     "text": [
      "finding... \n",
      "finding... \n",
      "finding... \n",
      "finding... \n",
      "found at index 4\n",
      "finding... \n",
      "finding... \n",
      "finding... \n",
      "finding... \n",
      "finding... \n",
      "finding... \n"
     ]
    }
   ],
   "source": [
    "#search a number \n",
    "l1=[1,4,5,7,9,23,45,65,73,2,4]\n",
    "x=9\n",
    "ind=0\n",
    "while ind<len(l1):\n",
    "    if(l1[ind]==x):\n",
    "        print(\"found at index\",ind)\n",
    "    else:\n",
    "        print(\"finding... \")\n",
    "    ind+=1\n",
    "# problem        "
   ]
  },
  {
   "cell_type": "code",
   "execution_count": null,
   "id": "92394c7d-a8dc-4fd7-84d7-c93080ed7fc4",
   "metadata": {},
   "outputs": [],
   "source": [
    "#break used to terminate the loop when condition if is satisfied"
   ]
  },
  {
   "cell_type": "code",
   "execution_count": 10,
   "id": "9e2938ff-3887-48fe-a415-4ec0b388afa2",
   "metadata": {},
   "outputs": [
    {
     "name": "stdout",
     "output_type": "stream",
     "text": [
      "1\n",
      "2\n",
      "3\n"
     ]
    }
   ],
   "source": [
    "i=1\n",
    "while i<=5:\n",
    "    print(i)\n",
    "    if(i==3):\n",
    "        break\n",
    "    i+=1"
   ]
  },
  {
   "cell_type": "code",
   "execution_count": 11,
   "id": "b226c6ae-ab85-4e53-8d81-d0969b2def2f",
   "metadata": {},
   "outputs": [
    {
     "name": "stdout",
     "output_type": "stream",
     "text": [
      "finding....\n",
      "finding....\n",
      "finding....\n",
      "finding....\n",
      "found at index 4\n",
      "end of loop\n"
     ]
    }
   ],
   "source": [
    "l1=[1,4,5,7,9,23,45,65,73,2,4]\n",
    "x=9\n",
    "ind=0\n",
    "while ind<len(l1):\n",
    "    if(l1[ind]==x):\n",
    "        print(\"found at index\",ind)\n",
    "        break\n",
    "    else:\n",
    "        print(\"finding....\")\n",
    "    ind+=1\n",
    "print(\"end of loop\")    "
   ]
  },
  {
   "cell_type": "code",
   "execution_count": null,
   "id": "b4655540-3422-436e-b387-deda7c95500d",
   "metadata": {},
   "outputs": [],
   "source": [
    "#continue terminate the execution in the current iteration  but continue the execution of loop \n",
    "with the next iteration"
   ]
  },
  {
   "cell_type": "code",
   "execution_count": 12,
   "id": "c4c5b354-372f-466f-a86b-003528ce2f6d",
   "metadata": {},
   "outputs": [
    {
     "name": "stdout",
     "output_type": "stream",
     "text": [
      "1\n",
      "2\n",
      "4\n",
      "5\n"
     ]
    }
   ],
   "source": [
    "# i don't want to print the 3 \n",
    "i=1\n",
    "while i<=5:\n",
    "    if(i==3):\n",
    "        i+=1\n",
    "        continue   #skip\n",
    "    print(i)    \n",
    "    i+=1"
   ]
  },
  {
   "cell_type": "code",
   "execution_count": null,
   "id": "9d298667-77a2-4082-a464-b873607d8379",
   "metadata": {},
   "outputs": [],
   "source": []
  },
  {
   "cell_type": "code",
   "execution_count": null,
   "id": "03c2c6d7-86a1-4b6b-8a0b-d4ffcc74ad6d",
   "metadata": {},
   "outputs": [],
   "source": [
    "q1=wap to print only odd number skip even number\n",
    "q2=wap to print only even number"
   ]
  },
  {
   "cell_type": "code",
   "execution_count": 13,
   "id": "c36a79e4-076e-42db-aa47-c11c0a311327",
   "metadata": {},
   "outputs": [
    {
     "name": "stdout",
     "output_type": "stream",
     "text": [
      "1\n",
      "3\n",
      "5\n",
      "7\n",
      "9\n"
     ]
    }
   ],
   "source": [
    "i=1\n",
    "while i<=10:\n",
    "    if(i%2==0):    #true\n",
    "        i+=1\n",
    "        continue   #skip\n",
    "    print(i)\n",
    "    i+=1    \n",
    "    "
   ]
  },
  {
   "cell_type": "code",
   "execution_count": 14,
   "id": "8b2d0f43-c6ce-4222-a3c1-8765f7922561",
   "metadata": {},
   "outputs": [
    {
     "name": "stdout",
     "output_type": "stream",
     "text": [
      "2\n",
      "4\n",
      "6\n",
      "8\n",
      "10\n"
     ]
    }
   ],
   "source": [
    "i=1\n",
    "while i<=10:\n",
    "    if(i%2!=0):\n",
    "        i+=1\n",
    "        continue\n",
    "    print(i)\n",
    "    i+=1   "
   ]
  },
  {
   "cell_type": "markdown",
   "id": "f210ac21-af5f-4593-887e-c123da68e6a3",
   "metadata": {},
   "source": [
    "# for loop "
   ]
  },
  {
   "cell_type": "code",
   "execution_count": null,
   "id": "4ba2e043-cb49-406d-8aa5-706040453cb7",
   "metadata": {},
   "outputs": [],
   "source": []
  },
  {
   "cell_type": "code",
   "execution_count": null,
   "id": "9dbd9cd2-29ab-4a66-9558-d2b7ddb79571",
   "metadata": {},
   "outputs": [],
   "source": [
    "#are generally used for sequential traverse,for traversing list,string,tuple,set,dict,range\n",
    "#when we  don't want to traverse the list using index (while)"
   ]
  },
  {
   "cell_type": "code",
   "execution_count": 19,
   "id": "11dc6d40-2ceb-47a2-8f9a-11599b15e12e",
   "metadata": {},
   "outputs": [
    {
     "name": "stdout",
     "output_type": "stream",
     "text": [
      "1\n",
      "2\n",
      "4\n",
      "6\n",
      "7\n",
      "end\n"
     ]
    }
   ],
   "source": [
    "l1=[1,2,4,6,7]     #traverse through index\n",
    "i=0\n",
    "while i<len(l1):\n",
    "    print(l1[i])\n",
    "    i+=1\n",
    "print(\"end\")    "
   ]
  },
  {
   "cell_type": "code",
   "execution_count": 20,
   "id": "920d1194-1621-49e7-96f9-55188277e9a8",
   "metadata": {},
   "outputs": [
    {
     "name": "stdout",
     "output_type": "stream",
     "text": [
      "1\n",
      "2\n",
      "4\n",
      "6\n",
      "7\n"
     ]
    }
   ],
   "source": [
    "l1=[1,2,4,6,7]      #traverse  element\n",
    "for el in l1:\n",
    "    print(el)"
   ]
  },
  {
   "cell_type": "code",
   "execution_count": 21,
   "id": "a4a7c2aa-8c5c-4e14-9848-446c65a7e93b",
   "metadata": {},
   "outputs": [
    {
     "name": "stdout",
     "output_type": "stream",
     "text": [
      "potato\n",
      "brinjal\n",
      "cucumber\n",
      "onion\n"
     ]
    }
   ],
   "source": [
    "vegetable=[\"potato\",\"brinjal\",\"cucumber\",\"onion\"]      #traverse  element\n",
    "for el in vegetable:\n",
    "    print(el)"
   ]
  },
  {
   "cell_type": "code",
   "execution_count": null,
   "id": "5cd23baf-771b-45e3-86b5-d05c9486162a",
   "metadata": {},
   "outputs": [],
   "source": [
    "#so if we work with variable whose value need to be updated we use while loop"
   ]
  },
  {
   "cell_type": "code",
   "execution_count": 22,
   "id": "bda5b287-33ac-42fb-85c3-eaae3f75977f",
   "metadata": {},
   "outputs": [
    {
     "name": "stdout",
     "output_type": "stream",
     "text": [
      "m\n",
      "y\n",
      "n\n",
      "a\n",
      "m\n",
      "e\n",
      "i\n",
      "s\n",
      "r\n",
      "e\n",
      "n\n",
      "u\n"
     ]
    }
   ],
   "source": [
    "string=\"mynameisrenu\"\n",
    "for char in string:\n",
    "    print(char)"
   ]
  },
  {
   "cell_type": "code",
   "execution_count": null,
   "id": "3785c6b8-190f-4112-b693-8e8a4e30df6b",
   "metadata": {},
   "outputs": [],
   "source": [
    "#we can use else with for and while loop to just print the message after completing the loop\n",
    "# it does not depend on the true or false condition\n",
    "# it is totally optional"
   ]
  },
  {
   "cell_type": "code",
   "execution_count": null,
   "id": "4ff5adea-a80a-499c-9d5f-128ca3324e8a",
   "metadata": {},
   "outputs": [],
   "source": [
    "l1=[1,2,4,6,7]      #traverse  element\n",
    "for el in l1:\n",
    "    print(el)\n",
    "else:\n",
    "    print(\"end\")"
   ]
  },
  {
   "cell_type": "code",
   "execution_count": 23,
   "id": "84f51639-3c78-4111-a263-361a9e97ebfe",
   "metadata": {},
   "outputs": [
    {
     "name": "stdout",
     "output_type": "stream",
     "text": [
      "1\n",
      "2\n",
      "4\n",
      "6\n",
      "7\n",
      "end\n"
     ]
    }
   ],
   "source": [
    "l1=[1,2,4,6,7]     #traverse through index\n",
    "i=0\n",
    "while i<len(l1):\n",
    "    print(l1[i])\n",
    "    i+=1\n",
    "else:\n",
    "    print(\"end\")  "
   ]
  },
  {
   "cell_type": "code",
   "execution_count": null,
   "id": "c51ff8db-6e0e-4a66-b283-96e260fcc469",
   "metadata": {},
   "outputs": [],
   "source": [
    "# question aries why we need else "
   ]
  },
  {
   "cell_type": "code",
   "execution_count": 24,
   "id": "8f4ce823-8d21-42d3-bf8f-4f3f723da532",
   "metadata": {},
   "outputs": [
    {
     "name": "stdout",
     "output_type": "stream",
     "text": [
      "m\n",
      "y\n",
      "n\n",
      "a\n",
      "m\n",
      "e\n",
      "i find\n",
      "end\n"
     ]
    }
   ],
   "source": [
    "string=\"mynameisrenu\"\n",
    "for char in string:\n",
    "    if (char==\"i\"):\n",
    "        print(\"i find\")\n",
    "        break                  # break means exit from the entire loop\n",
    "    print(char)\n",
    "print(\"end\")"
   ]
  },
  {
   "cell_type": "code",
   "execution_count": 25,
   "id": "f5810038-b143-484c-8cfb-304751cf0ef8",
   "metadata": {},
   "outputs": [
    {
     "name": "stdout",
     "output_type": "stream",
     "text": [
      "m\n",
      "y\n",
      "n\n",
      "a\n",
      "m\n",
      "e\n",
      "i find\n"
     ]
    }
   ],
   "source": [
    "string=\"mynameisrenu\"\n",
    "for char in string:\n",
    "    if (char==\"i\"):\n",
    "        print(\"i find\")\n",
    "        break                       #break means exit from the entire loop\n",
    "    print(char)\n",
    "else:\n",
    "    print(\"end\")"
   ]
  },
  {
   "cell_type": "code",
   "execution_count": null,
   "id": "c42e2966-f021-46e7-8b90-fa76e63f1324",
   "metadata": {},
   "outputs": [],
   "source": [
    "q1= wap to print the element of list using for loop\n",
    "q2=search for the num x in list "
   ]
  },
  {
   "cell_type": "code",
   "execution_count": 26,
   "id": "b7d1d926-e523-4378-ba31-d8e8255660df",
   "metadata": {},
   "outputs": [
    {
     "name": "stdout",
     "output_type": "stream",
     "text": [
      "1\n",
      "2\n",
      "3\n",
      "4\n",
      "5\n",
      "7\n",
      "5\n",
      "75\n",
      "45\n",
      "34\n",
      "67\n",
      "25\n",
      "30\n",
      "49\n",
      "65\n",
      "100\n"
     ]
    }
   ],
   "source": [
    "l1=[1,2,3,4,5,7,5,75,45,34,67,25,30,49,65,100]\n",
    "for el in l1:\n",
    "    print(el)"
   ]
  },
  {
   "cell_type": "code",
   "execution_count": 29,
   "id": "ace5d45a-9bec-4fce-9c1e-7e34732e040a",
   "metadata": {},
   "outputs": [
    {
     "name": "stdout",
     "output_type": "stream",
     "text": [
      "number found 13\n",
      "number found 15\n"
     ]
    }
   ],
   "source": [
    "l1=[1,2,3,4,5,7,5,75,45,34,67,25,30,49,65,49]\n",
    "x=49\n",
    "ind=0\n",
    "for el in l1:\n",
    "    if(el==x):\n",
    "        print(\"number found\",ind)\n",
    "    ind+=1"
   ]
  },
  {
   "cell_type": "code",
   "execution_count": 30,
   "id": "0e6acfcf-e4a6-439d-911d-1e1fc789766e",
   "metadata": {},
   "outputs": [
    {
     "name": "stdout",
     "output_type": "stream",
     "text": [
      "number found 13\n"
     ]
    }
   ],
   "source": [
    "l1=[1,2,3,4,5,7,5,75,45,34,67,25,30,49,65,49]\n",
    "x=49\n",
    "ind=0\n",
    "for el in l1:\n",
    "    if(el==x):\n",
    "        print(\"number found\",ind)\n",
    "        break\n",
    "    ind+=1"
   ]
  },
  {
   "cell_type": "markdown",
   "id": "84c160e6-7553-4672-b7d8-6e60d9a5e7f0",
   "metadata": {},
   "source": [
    "# range"
   ]
  },
  {
   "cell_type": "code",
   "execution_count": null,
   "id": "ab5d34d8-32d4-47f6-a80b-3b4794a13366",
   "metadata": {},
   "outputs": [],
   "source": [
    " range fnction returns a sequence of number\n",
    "starting by 0  and increment by 1 by default and stop before a specified number (given number)\n",
    "range(start?,stop,step?)\n",
    "step means increase by 1 by default"
   ]
  },
  {
   "cell_type": "code",
   "execution_count": 35,
   "id": "87331441-5a4f-4e31-a9e1-e35aba876c3e",
   "metadata": {},
   "outputs": [
    {
     "name": "stdout",
     "output_type": "stream",
     "text": [
      "range(0, 5)\n"
     ]
    }
   ],
   "source": [
    "print(range(5))"
   ]
  },
  {
   "cell_type": "code",
   "execution_count": 38,
   "id": "abbb805a-721d-4ac7-8002-eee738ab6132",
   "metadata": {},
   "outputs": [
    {
     "name": "stdout",
     "output_type": "stream",
     "text": [
      "0\n",
      "1\n",
      "2\n",
      "3\n",
      "4\n"
     ]
    }
   ],
   "source": [
    "# we can print element through index\n",
    "seq=range(5)\n",
    "print(seq[0])\n",
    "print(seq[1])\n",
    "print(seq[2])\n",
    "print(seq[3])\n",
    "print(seq[4])\n"
   ]
  },
  {
   "cell_type": "code",
   "execution_count": 39,
   "id": "b2ac9159-0b57-4de2-9816-30a30dd3f566",
   "metadata": {},
   "outputs": [
    {
     "name": "stdout",
     "output_type": "stream",
     "text": [
      "0\n",
      "1\n",
      "2\n",
      "3\n",
      "4\n"
     ]
    }
   ],
   "source": [
    "seq=range(5)\n",
    "for ele in seq:\n",
    "    print(ele)"
   ]
  },
  {
   "cell_type": "code",
   "execution_count": 31,
   "id": "633f7aa3-f0cd-4967-831a-e43aeb046c2e",
   "metadata": {},
   "outputs": [
    {
     "name": "stdout",
     "output_type": "stream",
     "text": [
      "0\n",
      "1\n",
      "2\n",
      "3\n",
      "4\n"
     ]
    }
   ],
   "source": [
    "for el in range(5):   #stop\n",
    "    print(el)"
   ]
  },
  {
   "cell_type": "code",
   "execution_count": 40,
   "id": "6d81fe28-4bed-4e05-9ec3-6684d283c4f1",
   "metadata": {},
   "outputs": [
    {
     "name": "stdout",
     "output_type": "stream",
     "text": [
      "2\n",
      "3\n",
      "4\n"
     ]
    }
   ],
   "source": [
    "for el in range(2,10):   #start and stop\n",
    "    print(el)"
   ]
  },
  {
   "cell_type": "code",
   "execution_count": 34,
   "id": "f151e47b-4df1-47c2-a50e-dfc05c0c45a5",
   "metadata": {},
   "outputs": [
    {
     "name": "stdout",
     "output_type": "stream",
     "text": [
      "1\n",
      "2\n",
      "3\n",
      "4\n"
     ]
    }
   ],
   "source": [
    "for el in range(2,10,2):   #start stop step\n",
    "    print(el)"
   ]
  },
  {
   "cell_type": "code",
   "execution_count": 43,
   "id": "61f92ac0-d913-4c3c-bb7f-7166280101c3",
   "metadata": {},
   "outputs": [
    {
     "name": "stdout",
     "output_type": "stream",
     "text": [
      "2\n",
      "4\n",
      "6\n",
      "8\n"
     ]
    }
   ],
   "source": [
    "#q1 wap to print even number\n",
    "for i in range(2,10,2):\n",
    "    print(i)"
   ]
  },
  {
   "cell_type": "code",
   "execution_count": 44,
   "id": "32f447a5-60ca-4bce-aba1-b1c16ed1a9ce",
   "metadata": {},
   "outputs": [
    {
     "name": "stdout",
     "output_type": "stream",
     "text": [
      "1\n",
      "3\n",
      "5\n",
      "7\n",
      "9\n"
     ]
    }
   ],
   "source": [
    "#q2 wap to print odd num\n",
    "for i in range(1,10,2):\n",
    "    print(i)"
   ]
  },
  {
   "cell_type": "code",
   "execution_count": null,
   "id": "32ca2d24-79a0-4dec-89eb-cbd9b2591630",
   "metadata": {},
   "outputs": [],
   "source": [
    "#q3 wap to print no 1 to 10\n",
    "#q4 wap to print no 10 to 1\n",
    "#q5 wap to print the multiplication table of num n"
   ]
  },
  {
   "cell_type": "code",
   "execution_count": 45,
   "id": "451bbe5a-49c6-4b8f-8947-c8bfafc42d50",
   "metadata": {},
   "outputs": [
    {
     "name": "stdout",
     "output_type": "stream",
     "text": [
      "1\n",
      "2\n",
      "3\n",
      "4\n",
      "5\n",
      "6\n",
      "7\n",
      "8\n",
      "9\n",
      "10\n"
     ]
    }
   ],
   "source": [
    "for i in range(1,11):\n",
    "    print(i)"
   ]
  },
  {
   "cell_type": "code",
   "execution_count": 49,
   "id": "a0422d53-bc71-44f7-b81c-23abc62ef296",
   "metadata": {},
   "outputs": [
    {
     "name": "stdout",
     "output_type": "stream",
     "text": [
      "10\n",
      "9\n",
      "8\n",
      "7\n",
      "6\n",
      "5\n",
      "4\n",
      "3\n",
      "2\n",
      "1\n"
     ]
    }
   ],
   "source": [
    "for i in range(10,0,-1):\n",
    "    print(i)"
   ]
  },
  {
   "cell_type": "code",
   "execution_count": 50,
   "id": "d04c21b2-3d84-410c-a00a-6a5c36c69699",
   "metadata": {},
   "outputs": [
    {
     "name": "stdout",
     "output_type": "stream",
     "text": [
      "5\n",
      "10\n",
      "15\n",
      "20\n",
      "25\n",
      "30\n",
      "35\n",
      "40\n",
      "45\n",
      "50\n"
     ]
    }
   ],
   "source": [
    "n=5\n",
    "for i in range(1,11):\n",
    "    print(n*i)"
   ]
  },
  {
   "cell_type": "markdown",
   "id": "f7d5b80a-a16f-4c78-9aa9-81fb05f39a46",
   "metadata": {},
   "source": [
    "# pass"
   ]
  },
  {
   "cell_type": "code",
   "execution_count": 51,
   "id": "2ed4bbfa-e32c-4cfa-bd66-16a02c4b3fb6",
   "metadata": {},
   "outputs": [
    {
     "ename": "IndentationError",
     "evalue": "expected an indented block after 'for' statement on line 1 (1867518651.py, line 3)",
     "output_type": "error",
     "traceback": [
      "\u001b[1;36m  Cell \u001b[1;32mIn[51], line 3\u001b[1;36m\u001b[0m\n\u001b[1;33m    print(\"doing some oyher work\")\u001b[0m\n\u001b[1;37m    ^\u001b[0m\n\u001b[1;31mIndentationError\u001b[0m\u001b[1;31m:\u001b[0m expected an indented block after 'for' statement on line 1\n"
     ]
    }
   ],
   "source": [
    "for i in range(5):\n",
    "    #empty\n",
    "print(\"doing some oyher work\")    "
   ]
  },
  {
   "cell_type": "code",
   "execution_count": 52,
   "id": "c4fb71d8-e4e8-4cf1-b7c9-7f8919a27ee6",
   "metadata": {},
   "outputs": [
    {
     "name": "stdout",
     "output_type": "stream",
     "text": [
      "doing some oyher work\n"
     ]
    }
   ],
   "source": [
    "for i in range(5):\n",
    "    pass        #we don't wan to write anything right now\n",
    "print(\"doing some oyher work\")   "
   ]
  },
  {
   "cell_type": "code",
   "execution_count": null,
   "id": "60c72f4e-7ffd-4a5c-b16e-95ea1a5c192c",
   "metadata": {},
   "outputs": [],
   "source": [
    "# y we use pass \n",
    "# it is used as a place holder for future use \n",
    "#just like none variable \n",
    "# we don't use pass frequently \n",
    "# we use loop to do some task "
   ]
  },
  {
   "cell_type": "code",
   "execution_count": null,
   "id": "6cacd14c-d6c9-44e4-a975-abadf200ccc7",
   "metadata": {},
   "outputs": [],
   "source": [
    "q1 wap to find the sum of first n natural number (using while loop)\n",
    "q2 wap to find the factorial of first n number using for"
   ]
  },
  {
   "cell_type": "code",
   "execution_count": 55,
   "id": "f85be765-3bf7-49aa-9b4d-ec85b4f086c1",
   "metadata": {},
   "outputs": [
    {
     "name": "stdout",
     "output_type": "stream",
     "text": [
      "15\n"
     ]
    }
   ],
   "source": [
    "n=5  #1+2+3+4+5          6,7,10\n",
    "sum=0\n",
    "for i in range(1,n+1):\n",
    "    sum+=i\n",
    "print(sum)    "
   ]
  },
  {
   "cell_type": "code",
   "execution_count": null,
   "id": "61b60ac5-1e23-4cf3-bf81-73605d176393",
   "metadata": {},
   "outputs": [],
   "source": [
    "n=5\n",
    "sum=0\n",
    "i=1\n",
    "while i<=n:\n",
    "    sum+=i\n",
    "    i+=1\n",
    "print(sum)    "
   ]
  },
  {
   "cell_type": "code",
   "execution_count": null,
   "id": "694fc500-d736-40a3-8662-cff203240372",
   "metadata": {},
   "outputs": [],
   "source": [
    "#factorial 5!=5*4*3*2*1\n",
    "n=5\n",
    "fact=1\n",
    "i=1\n",
    "while i<=n:\n",
    "    fact*=i\n",
    "    i+=1\n",
    "print(fact)  "
   ]
  },
  {
   "cell_type": "code",
   "execution_count": null,
   "id": "46fac5c8-a21e-4c23-85ff-95d8b13d0736",
   "metadata": {},
   "outputs": [],
   "source": [
    "n=5\n",
    "fact=1\n",
    "for i in range(1,n+1):\n",
    "    fact*=i\n",
    "print(fact) "
   ]
  },
  {
   "cell_type": "code",
   "execution_count": null,
   "id": "274dc86b-c8a0-46f2-ac66-cdc04b799a74",
   "metadata": {},
   "outputs": [],
   "source": []
  }
 ],
 "metadata": {
  "kernelspec": {
   "display_name": "Python [conda env:base] *",
   "language": "python",
   "name": "conda-base-py"
  },
  "language_info": {
   "codemirror_mode": {
    "name": "ipython",
    "version": 3
   },
   "file_extension": ".py",
   "mimetype": "text/x-python",
   "name": "python",
   "nbconvert_exporter": "python",
   "pygments_lexer": "ipython3",
   "version": "3.13.5"
  }
 },
 "nbformat": 4,
 "nbformat_minor": 5
}
